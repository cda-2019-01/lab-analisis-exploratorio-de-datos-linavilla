{
 "cells": [
  {
   "cell_type": "markdown",
   "metadata": {},
   "source": [
    "Evolución de los Precios de la Electricidad\n",
    "==="
   ]
  },
  {
   "cell_type": "markdown",
   "metadata": {},
   "source": [
    "# Instrucciones"
   ]
  },
  {
   "cell_type": "markdown",
   "metadata": {},
   "source": [
    "En el archivo `precios.zip`  se encuentran los archivos `Precio_Bolsa_Nacional_($kwh)_ano.xls` en formato de Microsoft Excel, los cuales contienen los precios históricos horarios de la electricidad para el mercado eléctrico Colombiano entre los años 1995 y 2017 en COL-PESOS/kWh. A partir de la información suministrada realice las siguientes actividades. "
   ]
  },
  {
   "cell_type": "code",
   "execution_count": 40,
   "metadata": {},
   "outputs": [],
   "source": [
    "import numpy as np\n",
    "import pandas as pd\n",
    "import matplotlib.pyplot as plt\n",
    "import matplotlib as mpl\n",
    "import pandas as pd\n",
    "import datetime as dt\n",
    "import glob\n",
    "\n",
    "%matplotlib inline"
   ]
  },
  {
   "cell_type": "markdown",
   "metadata": {},
   "source": [
    "**1.--** Lea los archivos y cree una tabla única concatenando la información para cada uno de los años. Debe transformar la tabla de tal forma que quede con las columnas `Fecha`, `Hora` y `Precio` (únicamente tres columnas)."
   ]
  },
  {
   "cell_type": "code",
   "execution_count": 2,
   "metadata": {},
   "outputs": [],
   "source": [
    "def LeerPrecios(filename):\n",
    "    for indice in range(10):\n",
    "        DataFrame = pd.read_excel(filename,skiprows = indice ,usecols = list(range(25)))\n",
    "        if DataFrame.iloc[0,0] == 'Fecha':\n",
    "            DataFrame = pd.read_excel(filename,skiprows = indice+1, usecols = list(range(25)))\n",
    "            break\n",
    "    return DataFrame"
   ]
  },
  {
   "cell_type": "code",
   "execution_count": 3,
   "metadata": {},
   "outputs": [],
   "source": [
    "Archivos = !ls precios/*.xls*\n",
    "DataFrames = []\n",
    "for filename in Archivos:\n",
    "    DataFrames.append(LeerPrecios(filename))\n",
    "DataFrames = pd.concat(DataFrames)\n",
    "DataFrames = pd.melt(DataFrames,id_vars = 'Fecha')\n",
    "DataFrames.columns = ['Fecha','Hora','Precio']"
   ]
  },
  {
   "cell_type": "code",
   "execution_count": 4,
   "metadata": {},
   "outputs": [
    {
     "data": {
      "text/plain": [
       "201816"
      ]
     },
     "execution_count": 4,
     "metadata": {},
     "output_type": "execute_result"
    }
   ],
   "source": [
    "DataFrames.shape[0]"
   ]
  },
  {
   "cell_type": "markdown",
   "metadata": {},
   "source": [
    "**2.--** Compute e imprima el número de registros con datos faltantes."
   ]
  },
  {
   "cell_type": "code",
   "execution_count": 5,
   "metadata": {},
   "outputs": [
    {
     "data": {
      "text/plain": [
       "454"
      ]
     },
     "execution_count": 5,
     "metadata": {},
     "output_type": "execute_result"
    }
   ],
   "source": [
    "DataFrames.isnull().sum().sum()"
   ]
  },
  {
   "cell_type": "code",
   "execution_count": 6,
   "metadata": {},
   "outputs": [],
   "source": [
    "df1 = DataFrames.dropna()"
   ]
  },
  {
   "cell_type": "code",
   "execution_count": 7,
   "metadata": {},
   "outputs": [
    {
     "data": {
      "text/plain": [
       "238"
      ]
     },
     "execution_count": 7,
     "metadata": {},
     "output_type": "execute_result"
    }
   ],
   "source": [
    "DataFrames.shape[0] - df1.shape[0]"
   ]
  },
  {
   "cell_type": "markdown",
   "metadata": {},
   "source": [
    "**3.--** Compute e imprima el número de registros duplicados."
   ]
  },
  {
   "cell_type": "code",
   "execution_count": 8,
   "metadata": {},
   "outputs": [
    {
     "data": {
      "text/plain": [
       "1951"
      ]
     },
     "execution_count": 8,
     "metadata": {},
     "output_type": "execute_result"
    }
   ],
   "source": [
    "DataFrameSinRepetir = DataFrames.copy()\n",
    "DataFrameSinRepetir = DataFrameSinRepetir.drop_duplicates()\n",
    "TotalRepetidos =  len(DataFrames.index) - len(DataFrameSinRepetir.index)\n",
    "TotalRepetidos"
   ]
  },
  {
   "cell_type": "markdown",
   "metadata": {},
   "source": [
    "**4.--** Elimine los registros con datos duplicados o datos faltantes, e imprima la cantidad de registros que quedan (registros completos)."
   ]
  },
  {
   "cell_type": "code",
   "execution_count": 10,
   "metadata": {},
   "outputs": [
    {
     "data": {
      "text/plain": [
       "199819"
      ]
     },
     "execution_count": 10,
     "metadata": {},
     "output_type": "execute_result"
    }
   ],
   "source": [
    "DataFrameSinRepetir = DataFrames.copy()\n",
    "DataFrameSinRepetir = (DataFrameSinRepetir.drop_duplicates()) #dropna elimina los nulos\n",
    "DataFrameSinRepetir = DataFrameSinRepetir.dropna() #dropna elimina los nulos\n",
    "len(DataFrameSinRepetir.index)"
   ]
  },
  {
   "cell_type": "markdown",
   "metadata": {},
   "source": [
    "**5.--** Compute y grafique el precio primedio diario."
   ]
  },
  {
   "cell_type": "code",
   "execution_count": 14,
   "metadata": {},
   "outputs": [],
   "source": [
    "df = DataFrameSinRepetir.copy()"
   ]
  },
  {
   "cell_type": "code",
   "execution_count": 15,
   "metadata": {},
   "outputs": [],
   "source": [
    "df['dia'] = pd.DatetimeIndex(df['Fecha']).day\n",
    "df['mes'] = pd.DatetimeIndex(df['Fecha']).month"
   ]
  },
  {
   "cell_type": "code",
   "execution_count": 16,
   "metadata": {},
   "outputs": [
    {
     "data": {
      "text/html": [
       "<div>\n",
       "<style scoped>\n",
       "    .dataframe tbody tr th:only-of-type {\n",
       "        vertical-align: middle;\n",
       "    }\n",
       "\n",
       "    .dataframe tbody tr th {\n",
       "        vertical-align: top;\n",
       "    }\n",
       "\n",
       "    .dataframe thead th {\n",
       "        text-align: right;\n",
       "    }\n",
       "</style>\n",
       "<table border=\"1\" class=\"dataframe\">\n",
       "  <thead>\n",
       "    <tr style=\"text-align: right;\">\n",
       "      <th></th>\n",
       "      <th>Fecha</th>\n",
       "      <th>Hora</th>\n",
       "      <th>Precio</th>\n",
       "      <th>dia</th>\n",
       "      <th>mes</th>\n",
       "    </tr>\n",
       "  </thead>\n",
       "  <tbody>\n",
       "    <tr>\n",
       "      <th>1</th>\n",
       "      <td>1995-07-21</td>\n",
       "      <td>0</td>\n",
       "      <td>1.073</td>\n",
       "      <td>21</td>\n",
       "      <td>7</td>\n",
       "    </tr>\n",
       "    <tr>\n",
       "      <th>2</th>\n",
       "      <td>1995-07-22</td>\n",
       "      <td>0</td>\n",
       "      <td>1.073</td>\n",
       "      <td>22</td>\n",
       "      <td>7</td>\n",
       "    </tr>\n",
       "    <tr>\n",
       "      <th>3</th>\n",
       "      <td>1995-07-23</td>\n",
       "      <td>0</td>\n",
       "      <td>1.073</td>\n",
       "      <td>23</td>\n",
       "      <td>7</td>\n",
       "    </tr>\n",
       "    <tr>\n",
       "      <th>4</th>\n",
       "      <td>1995-07-24</td>\n",
       "      <td>0</td>\n",
       "      <td>1.000</td>\n",
       "      <td>24</td>\n",
       "      <td>7</td>\n",
       "    </tr>\n",
       "    <tr>\n",
       "      <th>5</th>\n",
       "      <td>1995-07-25</td>\n",
       "      <td>0</td>\n",
       "      <td>0.990</td>\n",
       "      <td>25</td>\n",
       "      <td>7</td>\n",
       "    </tr>\n",
       "  </tbody>\n",
       "</table>\n",
       "</div>"
      ],
      "text/plain": [
       "        Fecha Hora  Precio  dia  mes\n",
       "1  1995-07-21    0   1.073   21    7\n",
       "2  1995-07-22    0   1.073   22    7\n",
       "3  1995-07-23    0   1.073   23    7\n",
       "4  1995-07-24    0   1.000   24    7\n",
       "5  1995-07-25    0   0.990   25    7"
      ]
     },
     "execution_count": 16,
     "metadata": {},
     "output_type": "execute_result"
    }
   ],
   "source": [
    "df.head()"
   ]
  },
  {
   "cell_type": "code",
   "execution_count": 17,
   "metadata": {},
   "outputs": [],
   "source": [
    "aux = df.groupby('dia')['Precio'].mean()"
   ]
  },
  {
   "cell_type": "code",
   "execution_count": 18,
   "metadata": {},
   "outputs": [
    {
     "data": {
      "text/plain": [
       "<matplotlib.axes._subplots.AxesSubplot at 0x7f2e628598d0>"
      ]
     },
     "execution_count": 18,
     "metadata": {},
     "output_type": "execute_result"
    },
    {
     "data": {
      "image/png": "[encoded data removed]",
      "text/plain": [
       "<Figure size 432x288 with 1 Axes>"
      ]
     },
     "metadata": {
      "needs_background": "light"
     },
     "output_type": "display_data"
    }
   ],
   "source": [
    "aux.plot(kind=\"bar\")"
   ]
  },
  {
   "cell_type": "markdown",
   "metadata": {},
   "source": [
    "**6.--** Compute y grafique el precio máximo por mes."
   ]
  },
  {
   "cell_type": "code",
   "execution_count": 19,
   "metadata": {},
   "outputs": [],
   "source": [
    "aux = df.groupby('mes')['Precio'].max()"
   ]
  },
  {
   "cell_type": "code",
   "execution_count": 20,
   "metadata": {},
   "outputs": [
    {
     "data": {
      "text/plain": [
       "<matplotlib.axes._subplots.AxesSubplot at 0x7f2e62524c18>"
      ]
     },
     "execution_count": 20,
     "metadata": {},
     "output_type": "execute_result"
    },
    {
     "data": {
      "image/png": "[encoded data removed]",
      "text/plain": [
       "<Figure size 432x288 with 1 Axes>"
      ]
     },
     "metadata": {
      "needs_background": "light"
     },
     "output_type": "display_data"
    }
   ],
   "source": [
    "aux.plot(kind=\"bar\")"
   ]
  },
  {
   "cell_type": "markdown",
   "metadata": {},
   "source": [
    "**7.--** Compute y grafique el precio mínimo mensual."
   ]
  },
  {
   "cell_type": "code",
   "execution_count": 21,
   "metadata": {},
   "outputs": [],
   "source": [
    "aux = df.groupby('mes')['Precio'].min()"
   ]
  },
  {
   "cell_type": "code",
   "execution_count": 22,
   "metadata": {},
   "outputs": [
    {
     "data": {
      "text/plain": [
       "<matplotlib.axes._subplots.AxesSubplot at 0x7f2e620ccc18>"
      ]
     },
     "execution_count": 22,
     "metadata": {},
     "output_type": "execute_result"
    },
    {
     "data": {
      "image/png": "[encoded data removed]",
      "text/plain": [
       "<Figure size 432x288 with 1 Axes>"
      ]
     },
     "metadata": {
      "needs_background": "light"
     },
     "output_type": "display_data"
    }
   ],
   "source": [
    "aux.plot(kind=\"bar\")"
   ]
  },
  {
   "cell_type": "markdown",
   "metadata": {},
   "source": [
    "**8.--** Haga un gráfico para comparar el precio máximo del mes (para cada mes) y el precio promedio mensual."
   ]
  },
  {
   "cell_type": "code",
   "execution_count": 23,
   "metadata": {},
   "outputs": [],
   "source": [
    "aux = df.groupby('mes')['Precio'].max()"
   ]
  },
  {
   "cell_type": "code",
   "execution_count": 24,
   "metadata": {},
   "outputs": [],
   "source": [
    "aux2 = df.groupby('mes')['Precio'].mean()"
   ]
  },
  {
   "cell_type": "code",
   "execution_count": 25,
   "metadata": {},
   "outputs": [
    {
     "data": {
      "text/plain": [
       "<matplotlib.axes._subplots.AxesSubplot at 0x7f2e628a89b0>"
      ]
     },
     "execution_count": 25,
     "metadata": {},
     "output_type": "execute_result"
    },
    {
     "data": {
      "image/png": "[encoded data removed]",
      "text/plain": [
       "<Figure size 432x288 with 2 Axes>"
      ]
     },
     "metadata": {
      "needs_background": "light"
     },
     "output_type": "display_data"
    }
   ],
   "source": [
    "fig, axes = plt.subplots(nrows=1, ncols=2)\n",
    "aux.plot(kind=\"bar\", ax=axes[0])\n",
    "aux2.plot(kind=\"bar\", ax=axes[1])"
   ]
  },
  {
   "cell_type": "markdown",
   "metadata": {},
   "source": [
    "**9.--** Haga un histograma que muestre a que horas se produce el máximo precio diario para los días laborales."
   ]
  },
  {
   "cell_type": "code",
   "execution_count": 26,
   "metadata": {},
   "outputs": [],
   "source": [
    "df['dia_semana'] = [a.weekday() for a in pd.to_datetime(df['Fecha'])]"
   ]
  },
  {
   "cell_type": "code",
   "execution_count": 27,
   "metadata": {},
   "outputs": [],
   "source": [
    "aux = df.copy()"
   ]
  },
  {
   "cell_type": "code",
   "execution_count": 28,
   "metadata": {},
   "outputs": [],
   "source": [
    "aux = aux[aux['dia_semana'] < 5]"
   ]
  },
  {
   "cell_type": "code",
   "execution_count": 29,
   "metadata": {},
   "outputs": [],
   "source": [
    "aux2 = aux.groupby('Fecha')['Precio'].max()#.agg({'Precio': np.max}) "
   ]
  },
  {
   "cell_type": "code",
   "execution_count": 30,
   "metadata": {},
   "outputs": [],
   "source": [
    "aux3 = pd.DataFrame({'Fecha':aux2.index, 'PrecioMax':aux2.values})"
   ]
  },
  {
   "cell_type": "code",
   "execution_count": 31,
   "metadata": {},
   "outputs": [],
   "source": [
    "aux['Fecha'] = pd.to_datetime(aux['Fecha'])"
   ]
  },
  {
   "cell_type": "code",
   "execution_count": 32,
   "metadata": {},
   "outputs": [],
   "source": [
    "aux5 = pd.merge(aux, aux3, on=['Fecha'], how='inner')"
   ]
  },
  {
   "cell_type": "code",
   "execution_count": 33,
   "metadata": {},
   "outputs": [],
   "source": [
    "aux6 = aux5[aux5['Precio'] == aux5['PrecioMax']]"
   ]
  },
  {
   "cell_type": "code",
   "execution_count": 34,
   "metadata": {},
   "outputs": [
    {
     "data": {
      "text/html": [
       "<div>\n",
       "<style scoped>\n",
       "    .dataframe tbody tr th:only-of-type {\n",
       "        vertical-align: middle;\n",
       "    }\n",
       "\n",
       "    .dataframe tbody tr th {\n",
       "        vertical-align: top;\n",
       "    }\n",
       "\n",
       "    .dataframe thead th {\n",
       "        text-align: right;\n",
       "    }\n",
       "</style>\n",
       "<table border=\"1\" class=\"dataframe\">\n",
       "  <thead>\n",
       "    <tr style=\"text-align: right;\">\n",
       "      <th></th>\n",
       "      <th>Fecha</th>\n",
       "      <th>Hora</th>\n",
       "      <th>Precio</th>\n",
       "      <th>dia</th>\n",
       "      <th>mes</th>\n",
       "      <th>dia_semana</th>\n",
       "      <th>PrecioMax</th>\n",
       "    </tr>\n",
       "  </thead>\n",
       "  <tbody>\n",
       "    <tr>\n",
       "      <th>19</th>\n",
       "      <td>1995-07-21</td>\n",
       "      <td>19</td>\n",
       "      <td>16.67</td>\n",
       "      <td>21</td>\n",
       "      <td>7</td>\n",
       "      <td>4</td>\n",
       "      <td>16.67</td>\n",
       "    </tr>\n",
       "    <tr>\n",
       "      <th>43</th>\n",
       "      <td>1995-07-24</td>\n",
       "      <td>19</td>\n",
       "      <td>22.50</td>\n",
       "      <td>24</td>\n",
       "      <td>7</td>\n",
       "      <td>0</td>\n",
       "      <td>22.50</td>\n",
       "    </tr>\n",
       "    <tr>\n",
       "      <th>67</th>\n",
       "      <td>1995-07-25</td>\n",
       "      <td>19</td>\n",
       "      <td>1.50</td>\n",
       "      <td>25</td>\n",
       "      <td>7</td>\n",
       "      <td>1</td>\n",
       "      <td>1.50</td>\n",
       "    </tr>\n",
       "    <tr>\n",
       "      <th>91</th>\n",
       "      <td>1995-07-26</td>\n",
       "      <td>19</td>\n",
       "      <td>8.00</td>\n",
       "      <td>26</td>\n",
       "      <td>7</td>\n",
       "      <td>2</td>\n",
       "      <td>8.00</td>\n",
       "    </tr>\n",
       "    <tr>\n",
       "      <th>115</th>\n",
       "      <td>1995-07-27</td>\n",
       "      <td>19</td>\n",
       "      <td>1.50</td>\n",
       "      <td>27</td>\n",
       "      <td>7</td>\n",
       "      <td>3</td>\n",
       "      <td>1.50</td>\n",
       "    </tr>\n",
       "  </tbody>\n",
       "</table>\n",
       "</div>"
      ],
      "text/plain": [
       "         Fecha Hora  Precio  dia  mes  dia_semana  PrecioMax\n",
       "19  1995-07-21   19   16.67   21    7           4      16.67\n",
       "43  1995-07-24   19   22.50   24    7           0      22.50\n",
       "67  1995-07-25   19    1.50   25    7           1       1.50\n",
       "91  1995-07-26   19    8.00   26    7           2       8.00\n",
       "115 1995-07-27   19    1.50   27    7           3       1.50"
      ]
     },
     "execution_count": 34,
     "metadata": {},
     "output_type": "execute_result"
    }
   ],
   "source": [
    "aux6.head()"
   ]
  },
  {
   "cell_type": "code",
   "execution_count": 35,
   "metadata": {},
   "outputs": [],
   "source": [
    "a = list(map(int,aux6['Hora'].tolist()))"
   ]
  },
  {
   "cell_type": "code",
   "execution_count": 36,
   "metadata": {},
   "outputs": [
    {
     "data": {
      "text/plain": [
       "(array([  41.,   29.,   25.,   20.,   31.,   92.,  134.,  164.,  293.,\n",
       "         397.,  653., 1039.,  607.,  555.,  774.,  716.,  517.,  422.,\n",
       "        2776., 5022., 1660.,  619.,  147.,   41.]),\n",
       " array([ 0.        ,  0.95833333,  1.91666667,  2.875     ,  3.83333333,\n",
       "         4.79166667,  5.75      ,  6.70833333,  7.66666667,  8.625     ,\n",
       "         9.58333333, 10.54166667, 11.5       , 12.45833333, 13.41666667,\n",
       "        14.375     , 15.33333333, 16.29166667, 17.25      , 18.20833333,\n",
       "        19.16666667, 20.125     , 21.08333333, 22.04166667, 23.        ]),\n",
       " <a list of 24 Patch objects>)"
      ]
     },
     "execution_count": 36,
     "metadata": {},
     "output_type": "execute_result"
    },
    {
     "data": {
      "image/png": "[encoded data removed]",
      "text/plain": [
       "<Figure size 432x288 with 1 Axes>"
      ]
     },
     "metadata": {
      "needs_background": "light"
     },
     "output_type": "display_data"
    }
   ],
   "source": [
    "plt.hist(a, bins=24)"
   ]
  },
  {
   "cell_type": "markdown",
   "metadata": {},
   "source": [
    "**10.--** Haga un histograma que muestre a que horas se produce el máximo precio diario para los días sabado."
   ]
  },
  {
   "cell_type": "code",
   "execution_count": 41,
   "metadata": {},
   "outputs": [],
   "source": [
    "DatosPorDia = DataFrameSinRepetir.copy()\n",
    "DatosPorDia['Fecha'] = pd.to_datetime(DatosPorDia['Fecha'])\n",
    "DatosPorDia['Dia'] =  DatosPorDia[['Fecha']].apply(lambda x: dt.datetime.strftime(x['Fecha'], '%A'), axis=1)\n",
    "DataFramePorDiaSabado = DatosPorDia[(DatosPorDia['Dia'] == 'Saturday') ]\n",
    "DataFrameAgrupadoPorFecha = DataFramePorDiaSabado.groupby('Fecha').agg({'Precio': np.max}) \n",
    "DataFrameAgrupadoPorFecha.reset_index(inplace=True)\n",
    "DataFramesMerge = pd.merge(DataFramePorDiaSabado, DataFrameAgrupadoPorFecha, on=['Fecha','Precio'], how='inner')"
   ]
  },
  {
   "cell_type": "code",
   "execution_count": 42,
   "metadata": {},
   "outputs": [
    {
     "data": {
      "text/plain": [
       "Text(0, 0.5, 'Numero de ocurrencias')"
      ]
     },
     "execution_count": 42,
     "metadata": {},
     "output_type": "execute_result"
    },
    {
     "data": {
      "image/png": "[encoded data removed]",
      "text/plain": [
       "<Figure size 432x288 with 1 Axes>"
      ]
     },
     "metadata": {
      "needs_background": "light"
     },
     "output_type": "display_data"
    }
   ],
   "source": [
    "ListaDeHoras = list(map(int,DataFramesMerge['Hora'].tolist()))\n",
    "plt.hist(ListaDeHoras, bins=24)\n",
    "plt.title('Histograma : Horas en las que se presento el precio máximo \"Sabado\"')\n",
    "plt.xlabel('Horas')\n",
    "plt.ylabel('Numero de ocurrencias')"
   ]
  },
  {
   "cell_type": "markdown",
   "metadata": {},
   "source": [
    "**11.--** Haga un histograma que muestre a que horas se produce el máximo precio diario para los días domingo."
   ]
  },
  {
   "cell_type": "code",
   "execution_count": 43,
   "metadata": {},
   "outputs": [],
   "source": [
    "DatosPorDia = DataFrameSinRepetir.copy()\n",
    "DatosPorDia['Fecha'] = pd.to_datetime(DatosPorDia['Fecha'])\n",
    "DatosPorDia['Dia'] =  DatosPorDia[['Fecha']].apply(lambda x: dt.datetime.strftime(x['Fecha'], '%A'), axis=1)\n",
    "DataFramePorDiaDomingo = DatosPorDia[(DatosPorDia['Dia'] == 'Sunday') ]\n",
    "DataFrameAgrupadoPorFecha = DataFramePorDiaDomingo.groupby('Fecha').agg({'Precio': np.max}) \n",
    "DataFrameAgrupadoPorFecha.reset_index(inplace=True)\n",
    "DataFramesMerge = pd.merge(DataFramePorDiaDomingo, DataFrameAgrupadoPorFecha, on=['Fecha','Precio'], how='inner')"
   ]
  },
  {
   "cell_type": "code",
   "execution_count": 44,
   "metadata": {},
   "outputs": [
    {
     "data": {
      "text/plain": [
       "Text(0, 0.5, 'Numero de ocurrencias')"
      ]
     },
     "execution_count": 44,
     "metadata": {},
     "output_type": "execute_result"
    },
    {
     "data": {
      "image/png": "[encoded data removed]",
      "text/plain": [
       "<Figure size 432x288 with 1 Axes>"
      ]
     },
     "metadata": {
      "needs_background": "light"
     },
     "output_type": "display_data"
    }
   ],
   "source": [
    "ListaDeHoras = list(map(int,DataFramesMerge['Hora'].tolist()))\n",
    "plt.hist(ListaDeHoras, bins=24)\n",
    "plt.title('Histograma : Horas en las que se presento el precio máximo \"Domingo\"')\n",
    "plt.xlabel('Horas')\n",
    "plt.ylabel('Numero de ocurrencias')"
   ]
  },
  {
   "cell_type": "markdown",
   "metadata": {},
   "source": [
    "**12.--** Imprima una tabla con la fecha y el valor más bajo por año del precio de bolsa."
   ]
  },
  {
   "cell_type": "code",
   "execution_count": 45,
   "metadata": {},
   "outputs": [],
   "source": [
    "df['anio'] = [a.year for a in pd.to_datetime(df['Fecha'])]"
   ]
  },
  {
   "cell_type": "code",
   "execution_count": 46,
   "metadata": {},
   "outputs": [
    {
     "data": {
      "text/html": [
       "<div>\n",
       "<style scoped>\n",
       "    .dataframe tbody tr th:only-of-type {\n",
       "        vertical-align: middle;\n",
       "    }\n",
       "\n",
       "    .dataframe tbody tr th {\n",
       "        vertical-align: top;\n",
       "    }\n",
       "\n",
       "    .dataframe thead th {\n",
       "        text-align: right;\n",
       "    }\n",
       "</style>\n",
       "<table border=\"1\" class=\"dataframe\">\n",
       "  <thead>\n",
       "    <tr style=\"text-align: right;\">\n",
       "      <th></th>\n",
       "      <th>Fecha</th>\n",
       "      <th>Hora</th>\n",
       "      <th>Precio</th>\n",
       "      <th>dia</th>\n",
       "      <th>mes</th>\n",
       "      <th>dia_semana</th>\n",
       "      <th>anio</th>\n",
       "    </tr>\n",
       "  </thead>\n",
       "  <tbody>\n",
       "    <tr>\n",
       "      <th>1</th>\n",
       "      <td>1995-07-21</td>\n",
       "      <td>0</td>\n",
       "      <td>1.073</td>\n",
       "      <td>21</td>\n",
       "      <td>7</td>\n",
       "      <td>4</td>\n",
       "      <td>1995</td>\n",
       "    </tr>\n",
       "    <tr>\n",
       "      <th>2</th>\n",
       "      <td>1995-07-22</td>\n",
       "      <td>0</td>\n",
       "      <td>1.073</td>\n",
       "      <td>22</td>\n",
       "      <td>7</td>\n",
       "      <td>5</td>\n",
       "      <td>1995</td>\n",
       "    </tr>\n",
       "    <tr>\n",
       "      <th>3</th>\n",
       "      <td>1995-07-23</td>\n",
       "      <td>0</td>\n",
       "      <td>1.073</td>\n",
       "      <td>23</td>\n",
       "      <td>7</td>\n",
       "      <td>6</td>\n",
       "      <td>1995</td>\n",
       "    </tr>\n",
       "    <tr>\n",
       "      <th>4</th>\n",
       "      <td>1995-07-24</td>\n",
       "      <td>0</td>\n",
       "      <td>1.000</td>\n",
       "      <td>24</td>\n",
       "      <td>7</td>\n",
       "      <td>0</td>\n",
       "      <td>1995</td>\n",
       "    </tr>\n",
       "    <tr>\n",
       "      <th>5</th>\n",
       "      <td>1995-07-25</td>\n",
       "      <td>0</td>\n",
       "      <td>0.990</td>\n",
       "      <td>25</td>\n",
       "      <td>7</td>\n",
       "      <td>1</td>\n",
       "      <td>1995</td>\n",
       "    </tr>\n",
       "  </tbody>\n",
       "</table>\n",
       "</div>"
      ],
      "text/plain": [
       "        Fecha Hora  Precio  dia  mes  dia_semana  anio\n",
       "1  1995-07-21    0   1.073   21    7           4  1995\n",
       "2  1995-07-22    0   1.073   22    7           5  1995\n",
       "3  1995-07-23    0   1.073   23    7           6  1995\n",
       "4  1995-07-24    0   1.000   24    7           0  1995\n",
       "5  1995-07-25    0   0.990   25    7           1  1995"
      ]
     },
     "execution_count": 46,
     "metadata": {},
     "output_type": "execute_result"
    }
   ],
   "source": [
    "df.head()"
   ]
  },
  {
   "cell_type": "code",
   "execution_count": 47,
   "metadata": {},
   "outputs": [],
   "source": [
    "aux = df.copy()"
   ]
  },
  {
   "cell_type": "code",
   "execution_count": 48,
   "metadata": {},
   "outputs": [],
   "source": [
    "aux2 = aux.groupby('anio')['Precio'].min()#.agg({'Precio': np.max}) "
   ]
  },
  {
   "cell_type": "code",
   "execution_count": 49,
   "metadata": {},
   "outputs": [
    {
     "data": {
      "text/plain": [
       "anio\n",
       "1995     0.00000\n",
       "1996     0.00000\n",
       "1997    10.88231\n",
       "1998    13.84733\n",
       "1999    18.35953\n",
       "Name: Precio, dtype: float64"
      ]
     },
     "execution_count": 49,
     "metadata": {},
     "output_type": "execute_result"
    }
   ],
   "source": [
    "aux2.head()"
   ]
  },
  {
   "cell_type": "code",
   "execution_count": 50,
   "metadata": {},
   "outputs": [],
   "source": [
    "aux3 = pd.DataFrame({'anio':aux2.index, 'PrecioMin':aux2.values})"
   ]
  },
  {
   "cell_type": "code",
   "execution_count": 51,
   "metadata": {},
   "outputs": [
    {
     "data": {
      "text/html": [
       "<div>\n",
       "<style scoped>\n",
       "    .dataframe tbody tr th:only-of-type {\n",
       "        vertical-align: middle;\n",
       "    }\n",
       "\n",
       "    .dataframe tbody tr th {\n",
       "        vertical-align: top;\n",
       "    }\n",
       "\n",
       "    .dataframe thead th {\n",
       "        text-align: right;\n",
       "    }\n",
       "</style>\n",
       "<table border=\"1\" class=\"dataframe\">\n",
       "  <thead>\n",
       "    <tr style=\"text-align: right;\">\n",
       "      <th></th>\n",
       "      <th>anio</th>\n",
       "      <th>PrecioMin</th>\n",
       "    </tr>\n",
       "  </thead>\n",
       "  <tbody>\n",
       "    <tr>\n",
       "      <th>0</th>\n",
       "      <td>1995</td>\n",
       "      <td>0.00000</td>\n",
       "    </tr>\n",
       "    <tr>\n",
       "      <th>1</th>\n",
       "      <td>1996</td>\n",
       "      <td>0.00000</td>\n",
       "    </tr>\n",
       "    <tr>\n",
       "      <th>2</th>\n",
       "      <td>1997</td>\n",
       "      <td>10.88231</td>\n",
       "    </tr>\n",
       "    <tr>\n",
       "      <th>3</th>\n",
       "      <td>1998</td>\n",
       "      <td>13.84733</td>\n",
       "    </tr>\n",
       "    <tr>\n",
       "      <th>4</th>\n",
       "      <td>1999</td>\n",
       "      <td>18.35953</td>\n",
       "    </tr>\n",
       "  </tbody>\n",
       "</table>\n",
       "</div>"
      ],
      "text/plain": [
       "   anio  PrecioMin\n",
       "0  1995    0.00000\n",
       "1  1996    0.00000\n",
       "2  1997   10.88231\n",
       "3  1998   13.84733\n",
       "4  1999   18.35953"
      ]
     },
     "execution_count": 51,
     "metadata": {},
     "output_type": "execute_result"
    }
   ],
   "source": [
    "aux3.head()"
   ]
  },
  {
   "cell_type": "code",
   "execution_count": 52,
   "metadata": {},
   "outputs": [],
   "source": [
    "aux4 = pd.merge(aux, aux3, on=['anio'], how='inner')"
   ]
  },
  {
   "cell_type": "code",
   "execution_count": 53,
   "metadata": {},
   "outputs": [
    {
     "data": {
      "text/html": [
       "<div>\n",
       "<style scoped>\n",
       "    .dataframe tbody tr th:only-of-type {\n",
       "        vertical-align: middle;\n",
       "    }\n",
       "\n",
       "    .dataframe tbody tr th {\n",
       "        vertical-align: top;\n",
       "    }\n",
       "\n",
       "    .dataframe thead th {\n",
       "        text-align: right;\n",
       "    }\n",
       "</style>\n",
       "<table border=\"1\" class=\"dataframe\">\n",
       "  <thead>\n",
       "    <tr style=\"text-align: right;\">\n",
       "      <th></th>\n",
       "      <th>Fecha</th>\n",
       "      <th>Hora</th>\n",
       "      <th>Precio</th>\n",
       "      <th>dia</th>\n",
       "      <th>mes</th>\n",
       "      <th>dia_semana</th>\n",
       "      <th>anio</th>\n",
       "      <th>PrecioMin</th>\n",
       "    </tr>\n",
       "  </thead>\n",
       "  <tbody>\n",
       "    <tr>\n",
       "      <th>0</th>\n",
       "      <td>1995-07-21</td>\n",
       "      <td>0</td>\n",
       "      <td>1.073</td>\n",
       "      <td>21</td>\n",
       "      <td>7</td>\n",
       "      <td>4</td>\n",
       "      <td>1995</td>\n",
       "      <td>0.0</td>\n",
       "    </tr>\n",
       "    <tr>\n",
       "      <th>1</th>\n",
       "      <td>1995-07-22</td>\n",
       "      <td>0</td>\n",
       "      <td>1.073</td>\n",
       "      <td>22</td>\n",
       "      <td>7</td>\n",
       "      <td>5</td>\n",
       "      <td>1995</td>\n",
       "      <td>0.0</td>\n",
       "    </tr>\n",
       "    <tr>\n",
       "      <th>2</th>\n",
       "      <td>1995-07-23</td>\n",
       "      <td>0</td>\n",
       "      <td>1.073</td>\n",
       "      <td>23</td>\n",
       "      <td>7</td>\n",
       "      <td>6</td>\n",
       "      <td>1995</td>\n",
       "      <td>0.0</td>\n",
       "    </tr>\n",
       "    <tr>\n",
       "      <th>3</th>\n",
       "      <td>1995-07-24</td>\n",
       "      <td>0</td>\n",
       "      <td>1.000</td>\n",
       "      <td>24</td>\n",
       "      <td>7</td>\n",
       "      <td>0</td>\n",
       "      <td>1995</td>\n",
       "      <td>0.0</td>\n",
       "    </tr>\n",
       "    <tr>\n",
       "      <th>4</th>\n",
       "      <td>1995-07-25</td>\n",
       "      <td>0</td>\n",
       "      <td>0.990</td>\n",
       "      <td>25</td>\n",
       "      <td>7</td>\n",
       "      <td>1</td>\n",
       "      <td>1995</td>\n",
       "      <td>0.0</td>\n",
       "    </tr>\n",
       "  </tbody>\n",
       "</table>\n",
       "</div>"
      ],
      "text/plain": [
       "        Fecha Hora  Precio  dia  mes  dia_semana  anio  PrecioMin\n",
       "0  1995-07-21    0   1.073   21    7           4  1995        0.0\n",
       "1  1995-07-22    0   1.073   22    7           5  1995        0.0\n",
       "2  1995-07-23    0   1.073   23    7           6  1995        0.0\n",
       "3  1995-07-24    0   1.000   24    7           0  1995        0.0\n",
       "4  1995-07-25    0   0.990   25    7           1  1995        0.0"
      ]
     },
     "execution_count": 53,
     "metadata": {},
     "output_type": "execute_result"
    }
   ],
   "source": [
    "aux4.head()"
   ]
  },
  {
   "cell_type": "code",
   "execution_count": 54,
   "metadata": {},
   "outputs": [],
   "source": [
    "aux5 = aux4[aux4['Precio'] == aux4['PrecioMin']]"
   ]
  },
  {
   "cell_type": "code",
   "execution_count": 55,
   "metadata": {},
   "outputs": [],
   "source": [
    "aux6 = aux5[['Fecha', 'PrecioMin']].drop_duplicates()"
   ]
  },
  {
   "cell_type": "code",
   "execution_count": 56,
   "metadata": {},
   "outputs": [
    {
     "data": {
      "text/html": [
       "<div>\n",
       "<style scoped>\n",
       "    .dataframe tbody tr th:only-of-type {\n",
       "        vertical-align: middle;\n",
       "    }\n",
       "\n",
       "    .dataframe tbody tr th {\n",
       "        vertical-align: top;\n",
       "    }\n",
       "\n",
       "    .dataframe thead th {\n",
       "        text-align: right;\n",
       "    }\n",
       "</style>\n",
       "<table border=\"1\" class=\"dataframe\">\n",
       "  <thead>\n",
       "    <tr style=\"text-align: right;\">\n",
       "      <th></th>\n",
       "      <th>Fecha</th>\n",
       "      <th>PrecioMin</th>\n",
       "    </tr>\n",
       "  </thead>\n",
       "  <tbody>\n",
       "    <tr>\n",
       "      <th>7</th>\n",
       "      <td>1995-07-28</td>\n",
       "      <td>0.000000</td>\n",
       "    </tr>\n",
       "    <tr>\n",
       "      <th>10</th>\n",
       "      <td>1995-07-31</td>\n",
       "      <td>0.000000</td>\n",
       "    </tr>\n",
       "    <tr>\n",
       "      <th>11</th>\n",
       "      <td>1995-08-01</td>\n",
       "      <td>0.000000</td>\n",
       "    </tr>\n",
       "    <tr>\n",
       "      <th>84</th>\n",
       "      <td>1995-10-13</td>\n",
       "      <td>0.000000</td>\n",
       "    </tr>\n",
       "    <tr>\n",
       "      <th>338</th>\n",
       "      <td>1995-07-29</td>\n",
       "      <td>0.000000</td>\n",
       "    </tr>\n",
       "    <tr>\n",
       "      <th>339</th>\n",
       "      <td>1995-07-30</td>\n",
       "      <td>0.000000</td>\n",
       "    </tr>\n",
       "    <tr>\n",
       "      <th>3800</th>\n",
       "      <td>1995-07-26</td>\n",
       "      <td>0.000000</td>\n",
       "    </tr>\n",
       "    <tr>\n",
       "      <th>4140</th>\n",
       "      <td>1996-06-30 00:00:00</td>\n",
       "      <td>0.000000</td>\n",
       "    </tr>\n",
       "    <tr>\n",
       "      <th>4149</th>\n",
       "      <td>1996-07-09 00:00:00</td>\n",
       "      <td>0.000000</td>\n",
       "    </tr>\n",
       "    <tr>\n",
       "      <th>4152</th>\n",
       "      <td>1996-07-12 00:00:00</td>\n",
       "      <td>0.000000</td>\n",
       "    </tr>\n",
       "    <tr>\n",
       "      <th>4162</th>\n",
       "      <td>1996-07-22 00:00:00</td>\n",
       "      <td>0.000000</td>\n",
       "    </tr>\n",
       "    <tr>\n",
       "      <th>4163</th>\n",
       "      <td>1996-07-23 00:00:00</td>\n",
       "      <td>0.000000</td>\n",
       "    </tr>\n",
       "    <tr>\n",
       "      <th>4164</th>\n",
       "      <td>1996-07-24 00:00:00</td>\n",
       "      <td>0.000000</td>\n",
       "    </tr>\n",
       "    <tr>\n",
       "      <th>4876</th>\n",
       "      <td>1996-07-04 00:00:00</td>\n",
       "      <td>0.000000</td>\n",
       "    </tr>\n",
       "    <tr>\n",
       "      <th>5981</th>\n",
       "      <td>1996-07-11 00:00:00</td>\n",
       "      <td>0.000000</td>\n",
       "    </tr>\n",
       "    <tr>\n",
       "      <th>7749</th>\n",
       "      <td>1996-05-10 00:00:00</td>\n",
       "      <td>0.000000</td>\n",
       "    </tr>\n",
       "    <tr>\n",
       "      <th>9651</th>\n",
       "      <td>1996-07-21 00:00:00</td>\n",
       "      <td>0.000000</td>\n",
       "    </tr>\n",
       "    <tr>\n",
       "      <th>12566</th>\n",
       "      <td>1996-07-08 00:00:00</td>\n",
       "      <td>0.000000</td>\n",
       "    </tr>\n",
       "    <tr>\n",
       "      <th>13668</th>\n",
       "      <td>1997-07-15 00:00:00</td>\n",
       "      <td>10.882310</td>\n",
       "    </tr>\n",
       "    <tr>\n",
       "      <th>21695</th>\n",
       "      <td>1998-07-12 00:00:00</td>\n",
       "      <td>13.847330</td>\n",
       "    </tr>\n",
       "    <tr>\n",
       "      <th>21696</th>\n",
       "      <td>1998-07-13 00:00:00</td>\n",
       "      <td>13.847330</td>\n",
       "    </tr>\n",
       "    <tr>\n",
       "      <th>21697</th>\n",
       "      <td>1998-07-14 00:00:00</td>\n",
       "      <td>13.847330</td>\n",
       "    </tr>\n",
       "    <tr>\n",
       "      <th>21698</th>\n",
       "      <td>1998-07-15 00:00:00</td>\n",
       "      <td>13.847330</td>\n",
       "    </tr>\n",
       "    <tr>\n",
       "      <th>21699</th>\n",
       "      <td>1998-07-16 00:00:00</td>\n",
       "      <td>13.847330</td>\n",
       "    </tr>\n",
       "    <tr>\n",
       "      <th>21701</th>\n",
       "      <td>1998-07-18 00:00:00</td>\n",
       "      <td>13.847330</td>\n",
       "    </tr>\n",
       "    <tr>\n",
       "      <th>21702</th>\n",
       "      <td>1998-07-19 00:00:00</td>\n",
       "      <td>13.847330</td>\n",
       "    </tr>\n",
       "    <tr>\n",
       "      <th>21703</th>\n",
       "      <td>1998-07-20 00:00:00</td>\n",
       "      <td>13.847330</td>\n",
       "    </tr>\n",
       "    <tr>\n",
       "      <th>21704</th>\n",
       "      <td>1998-07-21 00:00:00</td>\n",
       "      <td>13.847330</td>\n",
       "    </tr>\n",
       "    <tr>\n",
       "      <th>21705</th>\n",
       "      <td>1998-07-22 00:00:00</td>\n",
       "      <td>13.847330</td>\n",
       "    </tr>\n",
       "    <tr>\n",
       "      <th>21706</th>\n",
       "      <td>1998-07-23 00:00:00</td>\n",
       "      <td>13.847330</td>\n",
       "    </tr>\n",
       "    <tr>\n",
       "      <th>...</th>\n",
       "      <td>...</td>\n",
       "      <td>...</td>\n",
       "    </tr>\n",
       "    <tr>\n",
       "      <th>32539</th>\n",
       "      <td>1999-03-28 00:00:00</td>\n",
       "      <td>18.359530</td>\n",
       "    </tr>\n",
       "    <tr>\n",
       "      <th>37652</th>\n",
       "      <td>1999-03-31 00:00:00</td>\n",
       "      <td>18.359530</td>\n",
       "    </tr>\n",
       "    <tr>\n",
       "      <th>41303</th>\n",
       "      <td>2000-03-25</td>\n",
       "      <td>21.531167</td>\n",
       "    </tr>\n",
       "    <tr>\n",
       "      <th>41304</th>\n",
       "      <td>2000-03-26</td>\n",
       "      <td>21.531167</td>\n",
       "    </tr>\n",
       "    <tr>\n",
       "      <th>41306</th>\n",
       "      <td>2000-03-28</td>\n",
       "      <td>21.531167</td>\n",
       "    </tr>\n",
       "    <tr>\n",
       "      <th>44233</th>\n",
       "      <td>2000-03-27</td>\n",
       "      <td>21.531167</td>\n",
       "    </tr>\n",
       "    <tr>\n",
       "      <th>45333</th>\n",
       "      <td>2000-03-29</td>\n",
       "      <td>21.531167</td>\n",
       "    </tr>\n",
       "    <tr>\n",
       "      <th>45335</th>\n",
       "      <td>2000-03-31</td>\n",
       "      <td>21.531167</td>\n",
       "    </tr>\n",
       "    <tr>\n",
       "      <th>49133</th>\n",
       "      <td>2001-08-20</td>\n",
       "      <td>24.822879</td>\n",
       "    </tr>\n",
       "    <tr>\n",
       "      <th>56685</th>\n",
       "      <td>2002-04-29</td>\n",
       "      <td>26.777682</td>\n",
       "    </tr>\n",
       "    <tr>\n",
       "      <th>57041</th>\n",
       "      <td>2002-04-20</td>\n",
       "      <td>26.777682</td>\n",
       "    </tr>\n",
       "    <tr>\n",
       "      <th>57046</th>\n",
       "      <td>2002-04-25</td>\n",
       "      <td>26.777682</td>\n",
       "    </tr>\n",
       "    <tr>\n",
       "      <th>57409</th>\n",
       "      <td>2002-04-23</td>\n",
       "      <td>26.777682</td>\n",
       "    </tr>\n",
       "    <tr>\n",
       "      <th>65371</th>\n",
       "      <td>2003-02-14</td>\n",
       "      <td>37.013438</td>\n",
       "    </tr>\n",
       "    <tr>\n",
       "      <th>74541</th>\n",
       "      <td>2004-03-29</td>\n",
       "      <td>32.252998</td>\n",
       "    </tr>\n",
       "    <tr>\n",
       "      <th>83147</th>\n",
       "      <td>2005-10-04</td>\n",
       "      <td>27.581415</td>\n",
       "    </tr>\n",
       "    <tr>\n",
       "      <th>92650</th>\n",
       "      <td>2006-10-17</td>\n",
       "      <td>26.714797</td>\n",
       "    </tr>\n",
       "    <tr>\n",
       "      <th>100513</th>\n",
       "      <td>2007-05-03</td>\n",
       "      <td>30.173824</td>\n",
       "    </tr>\n",
       "    <tr>\n",
       "      <th>109297</th>\n",
       "      <td>2008-05-26</td>\n",
       "      <td>29.199135</td>\n",
       "    </tr>\n",
       "    <tr>\n",
       "      <th>118290</th>\n",
       "      <td>2009-12-22</td>\n",
       "      <td>32.892503</td>\n",
       "    </tr>\n",
       "    <tr>\n",
       "      <th>118657</th>\n",
       "      <td>2009-12-24</td>\n",
       "      <td>32.892503</td>\n",
       "    </tr>\n",
       "    <tr>\n",
       "      <th>126887</th>\n",
       "      <td>2010-07-12</td>\n",
       "      <td>32.024957</td>\n",
       "    </tr>\n",
       "    <tr>\n",
       "      <th>135611</th>\n",
       "      <td>2011-06-06</td>\n",
       "      <td>33.291100</td>\n",
       "    </tr>\n",
       "    <tr>\n",
       "      <th>146530</th>\n",
       "      <td>2012-04-29</td>\n",
       "      <td>34.988099</td>\n",
       "    </tr>\n",
       "    <tr>\n",
       "      <th>153007</th>\n",
       "      <td>2013-01-09</td>\n",
       "      <td>40.415346</td>\n",
       "    </tr>\n",
       "    <tr>\n",
       "      <th>162495</th>\n",
       "      <td>2014-01-11</td>\n",
       "      <td>38.941951</td>\n",
       "    </tr>\n",
       "    <tr>\n",
       "      <th>171250</th>\n",
       "      <td>2015-01-06</td>\n",
       "      <td>46.791501</td>\n",
       "    </tr>\n",
       "    <tr>\n",
       "      <th>179618</th>\n",
       "      <td>2016-12-09</td>\n",
       "      <td>61.100689</td>\n",
       "    </tr>\n",
       "    <tr>\n",
       "      <th>188145</th>\n",
       "      <td>2017-03-28</td>\n",
       "      <td>60.312095</td>\n",
       "    </tr>\n",
       "    <tr>\n",
       "      <th>197289</th>\n",
       "      <td>2018-04-06</td>\n",
       "      <td>61.457224</td>\n",
       "    </tr>\n",
       "  </tbody>\n",
       "</table>\n",
       "<p>71 rows × 2 columns</p>\n",
       "</div>"
      ],
      "text/plain": [
       "                      Fecha  PrecioMin\n",
       "7                1995-07-28   0.000000\n",
       "10               1995-07-31   0.000000\n",
       "11               1995-08-01   0.000000\n",
       "84               1995-10-13   0.000000\n",
       "338              1995-07-29   0.000000\n",
       "339              1995-07-30   0.000000\n",
       "3800             1995-07-26   0.000000\n",
       "4140    1996-06-30 00:00:00   0.000000\n",
       "4149    1996-07-09 00:00:00   0.000000\n",
       "4152    1996-07-12 00:00:00   0.000000\n",
       "4162    1996-07-22 00:00:00   0.000000\n",
       "4163    1996-07-23 00:00:00   0.000000\n",
       "4164    1996-07-24 00:00:00   0.000000\n",
       "4876    1996-07-04 00:00:00   0.000000\n",
       "5981    1996-07-11 00:00:00   0.000000\n",
       "7749    1996-05-10 00:00:00   0.000000\n",
       "9651    1996-07-21 00:00:00   0.000000\n",
       "12566   1996-07-08 00:00:00   0.000000\n",
       "13668   1997-07-15 00:00:00  10.882310\n",
       "21695   1998-07-12 00:00:00  13.847330\n",
       "21696   1998-07-13 00:00:00  13.847330\n",
       "21697   1998-07-14 00:00:00  13.847330\n",
       "21698   1998-07-15 00:00:00  13.847330\n",
       "21699   1998-07-16 00:00:00  13.847330\n",
       "21701   1998-07-18 00:00:00  13.847330\n",
       "21702   1998-07-19 00:00:00  13.847330\n",
       "21703   1998-07-20 00:00:00  13.847330\n",
       "21704   1998-07-21 00:00:00  13.847330\n",
       "21705   1998-07-22 00:00:00  13.847330\n",
       "21706   1998-07-23 00:00:00  13.847330\n",
       "...                     ...        ...\n",
       "32539   1999-03-28 00:00:00  18.359530\n",
       "37652   1999-03-31 00:00:00  18.359530\n",
       "41303            2000-03-25  21.531167\n",
       "41304            2000-03-26  21.531167\n",
       "41306            2000-03-28  21.531167\n",
       "44233            2000-03-27  21.531167\n",
       "45333            2000-03-29  21.531167\n",
       "45335            2000-03-31  21.531167\n",
       "49133            2001-08-20  24.822879\n",
       "56685            2002-04-29  26.777682\n",
       "57041            2002-04-20  26.777682\n",
       "57046            2002-04-25  26.777682\n",
       "57409            2002-04-23  26.777682\n",
       "65371            2003-02-14  37.013438\n",
       "74541            2004-03-29  32.252998\n",
       "83147            2005-10-04  27.581415\n",
       "92650            2006-10-17  26.714797\n",
       "100513           2007-05-03  30.173824\n",
       "109297           2008-05-26  29.199135\n",
       "118290           2009-12-22  32.892503\n",
       "118657           2009-12-24  32.892503\n",
       "126887           2010-07-12  32.024957\n",
       "135611           2011-06-06  33.291100\n",
       "146530           2012-04-29  34.988099\n",
       "153007           2013-01-09  40.415346\n",
       "162495           2014-01-11  38.941951\n",
       "171250           2015-01-06  46.791501\n",
       "179618           2016-12-09  61.100689\n",
       "188145           2017-03-28  60.312095\n",
       "197289           2018-04-06  61.457224\n",
       "\n",
       "[71 rows x 2 columns]"
      ]
     },
     "execution_count": 56,
     "metadata": {},
     "output_type": "execute_result"
    }
   ],
   "source": [
    "aux6[['Fecha', 'PrecioMin']]"
   ]
  },
  {
   "cell_type": "code",
   "execution_count": null,
   "metadata": {},
   "outputs": [],
   "source": []
  },
  {
   "cell_type": "markdown",
   "metadata": {},
   "source": [
    "**13.--** Haga una gráfica en que se muestre el precio promedio diario y el precio promedio mensual."
   ]
  },
  {
   "cell_type": "code",
   "execution_count": 57,
   "metadata": {},
   "outputs": [],
   "source": [
    "aux = df.copy()"
   ]
  },
  {
   "cell_type": "code",
   "execution_count": 58,
   "metadata": {},
   "outputs": [],
   "source": [
    "aux['mes'] = [a.month for a in pd.to_datetime(df['Fecha'])]"
   ]
  },
  {
   "cell_type": "code",
   "execution_count": 59,
   "metadata": {},
   "outputs": [
    {
     "data": {
      "text/html": [
       "<div>\n",
       "<style scoped>\n",
       "    .dataframe tbody tr th:only-of-type {\n",
       "        vertical-align: middle;\n",
       "    }\n",
       "\n",
       "    .dataframe tbody tr th {\n",
       "        vertical-align: top;\n",
       "    }\n",
       "\n",
       "    .dataframe thead th {\n",
       "        text-align: right;\n",
       "    }\n",
       "</style>\n",
       "<table border=\"1\" class=\"dataframe\">\n",
       "  <thead>\n",
       "    <tr style=\"text-align: right;\">\n",
       "      <th></th>\n",
       "      <th>Fecha</th>\n",
       "      <th>Hora</th>\n",
       "      <th>Precio</th>\n",
       "      <th>dia</th>\n",
       "      <th>mes</th>\n",
       "      <th>dia_semana</th>\n",
       "      <th>anio</th>\n",
       "    </tr>\n",
       "  </thead>\n",
       "  <tbody>\n",
       "    <tr>\n",
       "      <th>1</th>\n",
       "      <td>1995-07-21</td>\n",
       "      <td>0</td>\n",
       "      <td>1.073</td>\n",
       "      <td>21</td>\n",
       "      <td>7</td>\n",
       "      <td>4</td>\n",
       "      <td>1995</td>\n",
       "    </tr>\n",
       "    <tr>\n",
       "      <th>2</th>\n",
       "      <td>1995-07-22</td>\n",
       "      <td>0</td>\n",
       "      <td>1.073</td>\n",
       "      <td>22</td>\n",
       "      <td>7</td>\n",
       "      <td>5</td>\n",
       "      <td>1995</td>\n",
       "    </tr>\n",
       "    <tr>\n",
       "      <th>3</th>\n",
       "      <td>1995-07-23</td>\n",
       "      <td>0</td>\n",
       "      <td>1.073</td>\n",
       "      <td>23</td>\n",
       "      <td>7</td>\n",
       "      <td>6</td>\n",
       "      <td>1995</td>\n",
       "    </tr>\n",
       "    <tr>\n",
       "      <th>4</th>\n",
       "      <td>1995-07-24</td>\n",
       "      <td>0</td>\n",
       "      <td>1.000</td>\n",
       "      <td>24</td>\n",
       "      <td>7</td>\n",
       "      <td>0</td>\n",
       "      <td>1995</td>\n",
       "    </tr>\n",
       "    <tr>\n",
       "      <th>5</th>\n",
       "      <td>1995-07-25</td>\n",
       "      <td>0</td>\n",
       "      <td>0.990</td>\n",
       "      <td>25</td>\n",
       "      <td>7</td>\n",
       "      <td>1</td>\n",
       "      <td>1995</td>\n",
       "    </tr>\n",
       "  </tbody>\n",
       "</table>\n",
       "</div>"
      ],
      "text/plain": [
       "        Fecha Hora  Precio  dia  mes  dia_semana  anio\n",
       "1  1995-07-21    0   1.073   21    7           4  1995\n",
       "2  1995-07-22    0   1.073   22    7           5  1995\n",
       "3  1995-07-23    0   1.073   23    7           6  1995\n",
       "4  1995-07-24    0   1.000   24    7           0  1995\n",
       "5  1995-07-25    0   0.990   25    7           1  1995"
      ]
     },
     "execution_count": 59,
     "metadata": {},
     "output_type": "execute_result"
    }
   ],
   "source": [
    "aux.head()"
   ]
  },
  {
   "cell_type": "code",
   "execution_count": 60,
   "metadata": {},
   "outputs": [],
   "source": [
    "aux1 = aux.groupby('Fecha')['Precio'].mean()"
   ]
  },
  {
   "cell_type": "code",
   "execution_count": 61,
   "metadata": {},
   "outputs": [],
   "source": [
    "aux2 = aux.groupby(['mes', 'anio'])['Precio'].mean()"
   ]
  },
  {
   "cell_type": "code",
   "execution_count": 62,
   "metadata": {},
   "outputs": [
    {
     "data": {
      "text/plain": [
       "mes  anio\n",
       "1    1996     23.008071\n",
       "     1997     21.623433\n",
       "     1998    133.844299\n",
       "     1999     24.921645\n",
       "     2000     36.778780\n",
       "Name: Precio, dtype: float64"
      ]
     },
     "execution_count": 62,
     "metadata": {},
     "output_type": "execute_result"
    }
   ],
   "source": [
    "aux2.head()"
   ]
  },
  {
   "cell_type": "code",
   "execution_count": 63,
   "metadata": {},
   "outputs": [
    {
     "data": {
      "text/plain": [
       "Int64Index([1995, 1996, 1997, 1998, 1999, 2000, 2001, 2002, 2003, 2004, 2005,\n",
       "            2006, 2007, 2008, 2009, 2010, 2011, 2012, 2013, 2014, 2015, 2016,\n",
       "            2017, 2018],\n",
       "           dtype='int64', name='anio')"
      ]
     },
     "execution_count": 63,
     "metadata": {},
     "output_type": "execute_result"
    }
   ],
   "source": [
    "aux2.index.levels[1]"
   ]
  },
  {
   "cell_type": "code",
   "execution_count": 64,
   "metadata": {},
   "outputs": [],
   "source": [
    "aux3 = pd.DataFrame({'anio':aux2.index.to_numpy(), 'Prom':aux2.values})"
   ]
  },
  {
   "cell_type": "code",
   "execution_count": 65,
   "metadata": {},
   "outputs": [],
   "source": [
    "aux3['anio'] = aux3['anio'][0][1]"
   ]
  },
  {
   "cell_type": "code",
   "execution_count": 66,
   "metadata": {},
   "outputs": [
    {
     "data": {
      "text/html": [
       "<div>\n",
       "<style scoped>\n",
       "    .dataframe tbody tr th:only-of-type {\n",
       "        vertical-align: middle;\n",
       "    }\n",
       "\n",
       "    .dataframe tbody tr th {\n",
       "        vertical-align: top;\n",
       "    }\n",
       "\n",
       "    .dataframe thead th {\n",
       "        text-align: right;\n",
       "    }\n",
       "</style>\n",
       "<table border=\"1\" class=\"dataframe\">\n",
       "  <thead>\n",
       "    <tr style=\"text-align: right;\">\n",
       "      <th></th>\n",
       "      <th>anio</th>\n",
       "      <th>Prom</th>\n",
       "    </tr>\n",
       "  </thead>\n",
       "  <tbody>\n",
       "    <tr>\n",
       "      <th>0</th>\n",
       "      <td>1996</td>\n",
       "      <td>23.008071</td>\n",
       "    </tr>\n",
       "    <tr>\n",
       "      <th>1</th>\n",
       "      <td>1996</td>\n",
       "      <td>21.623433</td>\n",
       "    </tr>\n",
       "    <tr>\n",
       "      <th>2</th>\n",
       "      <td>1996</td>\n",
       "      <td>133.844299</td>\n",
       "    </tr>\n",
       "    <tr>\n",
       "      <th>3</th>\n",
       "      <td>1996</td>\n",
       "      <td>24.921645</td>\n",
       "    </tr>\n",
       "    <tr>\n",
       "      <th>4</th>\n",
       "      <td>1996</td>\n",
       "      <td>36.778780</td>\n",
       "    </tr>\n",
       "  </tbody>\n",
       "</table>\n",
       "</div>"
      ],
      "text/plain": [
       "   anio        Prom\n",
       "0  1996   23.008071\n",
       "1  1996   21.623433\n",
       "2  1996  133.844299\n",
       "3  1996   24.921645\n",
       "4  1996   36.778780"
      ]
     },
     "execution_count": 66,
     "metadata": {},
     "output_type": "execute_result"
    }
   ],
   "source": [
    "aux3.head()"
   ]
  },
  {
   "cell_type": "code",
   "execution_count": 67,
   "metadata": {},
   "outputs": [],
   "source": [
    "aux4 = aux3.T.squeeze()"
   ]
  },
  {
   "cell_type": "code",
   "execution_count": 68,
   "metadata": {},
   "outputs": [
    {
     "data": {
      "text/html": [
       "<div>\n",
       "<style scoped>\n",
       "    .dataframe tbody tr th:only-of-type {\n",
       "        vertical-align: middle;\n",
       "    }\n",
       "\n",
       "    .dataframe tbody tr th {\n",
       "        vertical-align: top;\n",
       "    }\n",
       "\n",
       "    .dataframe thead th {\n",
       "        text-align: right;\n",
       "    }\n",
       "</style>\n",
       "<table border=\"1\" class=\"dataframe\">\n",
       "  <thead>\n",
       "    <tr style=\"text-align: right;\">\n",
       "      <th></th>\n",
       "      <th>anio</th>\n",
       "      <th>Prom</th>\n",
       "    </tr>\n",
       "  </thead>\n",
       "  <tbody>\n",
       "    <tr>\n",
       "      <th>0</th>\n",
       "      <td>1996</td>\n",
       "      <td>23.008071</td>\n",
       "    </tr>\n",
       "    <tr>\n",
       "      <th>1</th>\n",
       "      <td>1996</td>\n",
       "      <td>21.623433</td>\n",
       "    </tr>\n",
       "    <tr>\n",
       "      <th>2</th>\n",
       "      <td>1996</td>\n",
       "      <td>133.844299</td>\n",
       "    </tr>\n",
       "    <tr>\n",
       "      <th>3</th>\n",
       "      <td>1996</td>\n",
       "      <td>24.921645</td>\n",
       "    </tr>\n",
       "    <tr>\n",
       "      <th>4</th>\n",
       "      <td>1996</td>\n",
       "      <td>36.778780</td>\n",
       "    </tr>\n",
       "  </tbody>\n",
       "</table>\n",
       "</div>"
      ],
      "text/plain": [
       "   anio        Prom\n",
       "0  1996   23.008071\n",
       "1  1996   21.623433\n",
       "2  1996  133.844299\n",
       "3  1996   24.921645\n",
       "4  1996   36.778780"
      ]
     },
     "execution_count": 68,
     "metadata": {},
     "output_type": "execute_result"
    }
   ],
   "source": [
    "aux3.head()"
   ]
  },
  {
   "cell_type": "code",
   "execution_count": 71,
   "metadata": {},
   "outputs": [],
   "source": [
    "##aux3.columns = ['']"
   ]
  },
  {
   "cell_type": "code",
   "execution_count": 72,
   "metadata": {},
   "outputs": [
    {
     "data": {
      "text/plain": [
       "Fecha\n",
       "1996-02-01    13.903167\n",
       "1996-02-02    13.559000\n",
       "1996-02-03    14.524958\n",
       "1996-02-04     7.166917\n",
       "1996-02-05     8.333542\n",
       "Name: Precio, dtype: float64"
      ]
     },
     "execution_count": 72,
     "metadata": {},
     "output_type": "execute_result"
    }
   ],
   "source": [
    "aux1.head()"
   ]
  },
  {
   "cell_type": "code",
   "execution_count": 73,
   "metadata": {},
   "outputs": [
    {
     "data": {
      "text/plain": [
       "[<matplotlib.lines.Line2D at 0x7f2e5f370cc0>]"
      ]
     },
     "execution_count": 73,
     "metadata": {},
     "output_type": "execute_result"
    },
    {
     "data": {
      "image/png": "[encoded data removed]",
      "text/plain": [
       "<Figure size 432x288 with 1 Axes>"
      ]
     },
     "metadata": {
      "needs_background": "light"
     },
     "output_type": "display_data"
    }
   ],
   "source": [
    "plt.plot(aux1)"
   ]
  },
  {
   "cell_type": "code",
   "execution_count": 74,
   "metadata": {},
   "outputs": [
    {
     "data": {
      "text/plain": [
       "[<matplotlib.lines.Line2D at 0x7f2e5f2ff550>,\n",
       " <matplotlib.lines.Line2D at 0x7f2e5f2ff630>,\n",
       " <matplotlib.lines.Line2D at 0x7f2e5f2ff780>,\n",
       " <matplotlib.lines.Line2D at 0x7f2e5f2ff8d0>,\n",
       " <matplotlib.lines.Line2D at 0x7f2e5f2ffa20>,\n",
       " <matplotlib.lines.Line2D at 0x7f2e5f2ffb70>,\n",
       " <matplotlib.lines.Line2D at 0x7f2e5f2ffcc0>,\n",
       " <matplotlib.lines.Line2D at 0x7f2e5f2ffe10>,\n",
       " <matplotlib.lines.Line2D at 0x7f2e5f2fff60>,\n",
       " <matplotlib.lines.Line2D at 0x7f2e5f3060f0>,\n",
       " <matplotlib.lines.Line2D at 0x7f2e5f33fe10>,\n",
       " <matplotlib.lines.Line2D at 0x7f2e5f306358>,\n",
       " <matplotlib.lines.Line2D at 0x7f2e5f3064a8>,\n",
       " <matplotlib.lines.Line2D at 0x7f2e5f3065f8>,\n",
       " <matplotlib.lines.Line2D at 0x7f2e5f306748>,\n",
       " <matplotlib.lines.Line2D at 0x7f2e5f306898>,\n",
       " <matplotlib.lines.Line2D at 0x7f2e5f3069e8>,\n",
       " <matplotlib.lines.Line2D at 0x7f2e5f306b38>,\n",
       " <matplotlib.lines.Line2D at 0x7f2e5f306c88>,\n",
       " <matplotlib.lines.Line2D at 0x7f2e5f306dd8>,\n",
       " <matplotlib.lines.Line2D at 0x7f2e5f306f28>,\n",
       " <matplotlib.lines.Line2D at 0x7f2e5f30c0b8>,\n",
       " <matplotlib.lines.Line2D at 0x7f2e5f30c208>,\n",
       " <matplotlib.lines.Line2D at 0x7f2e5f30c358>,\n",
       " <matplotlib.lines.Line2D at 0x7f2e5f30c4a8>,\n",
       " <matplotlib.lines.Line2D at 0x7f2e5f30c5f8>,\n",
       " <matplotlib.lines.Line2D at 0x7f2e5f30c748>,\n",
       " <matplotlib.lines.Line2D at 0x7f2e5f30c898>,\n",
       " <matplotlib.lines.Line2D at 0x7f2e5f30c9e8>,\n",
       " <matplotlib.lines.Line2D at 0x7f2e5f30cb38>,\n",
       " <matplotlib.lines.Line2D at 0x7f2e5f30cc88>,\n",
       " <matplotlib.lines.Line2D at 0x7f2e5f30cdd8>,\n",
       " <matplotlib.lines.Line2D at 0x7f2e5f30cf28>,\n",
       " <matplotlib.lines.Line2D at 0x7f2e5f3110b8>,\n",
       " <matplotlib.lines.Line2D at 0x7f2e5f311208>,\n",
       " <matplotlib.lines.Line2D at 0x7f2e5f311358>,\n",
       " <matplotlib.lines.Line2D at 0x7f2e5f3114a8>,\n",
       " <matplotlib.lines.Line2D at 0x7f2e5f3115f8>,\n",
       " <matplotlib.lines.Line2D at 0x7f2e5f311748>,\n",
       " <matplotlib.lines.Line2D at 0x7f2e5f311898>,\n",
       " <matplotlib.lines.Line2D at 0x7f2e5f3119e8>,\n",
       " <matplotlib.lines.Line2D at 0x7f2e5f311b38>,\n",
       " <matplotlib.lines.Line2D at 0x7f2e5f311c88>,\n",
       " <matplotlib.lines.Line2D at 0x7f2e5f311dd8>,\n",
       " <matplotlib.lines.Line2D at 0x7f2e5f311f28>,\n",
       " <matplotlib.lines.Line2D at 0x7f2e5f3170b8>,\n",
       " <matplotlib.lines.Line2D at 0x7f2e5f317208>,\n",
       " <matplotlib.lines.Line2D at 0x7f2e5f317358>,\n",
       " <matplotlib.lines.Line2D at 0x7f2e5f3174a8>,\n",
       " <matplotlib.lines.Line2D at 0x7f2e5f3175f8>,\n",
       " <matplotlib.lines.Line2D at 0x7f2e5f317748>,\n",
       " <matplotlib.lines.Line2D at 0x7f2e5f317898>,\n",
       " <matplotlib.lines.Line2D at 0x7f2e5f3179e8>,\n",
       " <matplotlib.lines.Line2D at 0x7f2e5f317b38>,\n",
       " <matplotlib.lines.Line2D at 0x7f2e5f317c88>,\n",
       " <matplotlib.lines.Line2D at 0x7f2e5f317dd8>,\n",
       " <matplotlib.lines.Line2D at 0x7f2e5f317f28>,\n",
       " <matplotlib.lines.Line2D at 0x7f2e5f31c0b8>,\n",
       " <matplotlib.lines.Line2D at 0x7f2e5f31c208>,\n",
       " <matplotlib.lines.Line2D at 0x7f2e5f31c358>,\n",
       " <matplotlib.lines.Line2D at 0x7f2e5f31c4a8>,\n",
       " <matplotlib.lines.Line2D at 0x7f2e5f31c5f8>,\n",
       " <matplotlib.lines.Line2D at 0x7f2e5f31c748>,\n",
       " <matplotlib.lines.Line2D at 0x7f2e5f31c898>,\n",
       " <matplotlib.lines.Line2D at 0x7f2e5f31c9e8>,\n",
       " <matplotlib.lines.Line2D at 0x7f2e5f31cb38>,\n",
       " <matplotlib.lines.Line2D at 0x7f2e5f31cc88>,\n",
       " <matplotlib.lines.Line2D at 0x7f2e5f31cdd8>,\n",
       " <matplotlib.lines.Line2D at 0x7f2e5f31cf28>,\n",
       " <matplotlib.lines.Line2D at 0x7f2e5f3210b8>,\n",
       " <matplotlib.lines.Line2D at 0x7f2e5f321208>,\n",
       " <matplotlib.lines.Line2D at 0x7f2e5f321358>,\n",
       " <matplotlib.lines.Line2D at 0x7f2e5f3214a8>,\n",
       " <matplotlib.lines.Line2D at 0x7f2e5f3215f8>,\n",
       " <matplotlib.lines.Line2D at 0x7f2e5f321748>,\n",
       " <matplotlib.lines.Line2D at 0x7f2e5f321898>,\n",
       " <matplotlib.lines.Line2D at 0x7f2e5f3219e8>,\n",
       " <matplotlib.lines.Line2D at 0x7f2e5f321b38>,\n",
       " <matplotlib.lines.Line2D at 0x7f2e5f321c88>,\n",
       " <matplotlib.lines.Line2D at 0x7f2e5f321dd8>,\n",
       " <matplotlib.lines.Line2D at 0x7f2e5f321f28>,\n",
       " <matplotlib.lines.Line2D at 0x7f2e5f2a50b8>,\n",
       " <matplotlib.lines.Line2D at 0x7f2e5f2a5208>,\n",
       " <matplotlib.lines.Line2D at 0x7f2e5f2a5358>,\n",
       " <matplotlib.lines.Line2D at 0x7f2e5f2a54a8>,\n",
       " <matplotlib.lines.Line2D at 0x7f2e5f2a55f8>,\n",
       " <matplotlib.lines.Line2D at 0x7f2e5f2a5748>,\n",
       " <matplotlib.lines.Line2D at 0x7f2e5f2a5898>,\n",
       " <matplotlib.lines.Line2D at 0x7f2e5f2a59e8>,\n",
       " <matplotlib.lines.Line2D at 0x7f2e5f2a5b38>,\n",
       " <matplotlib.lines.Line2D at 0x7f2e5f2a5c88>,\n",
       " <matplotlib.lines.Line2D at 0x7f2e5f2a5dd8>,\n",
       " <matplotlib.lines.Line2D at 0x7f2e5f2a5f28>,\n",
       " <matplotlib.lines.Line2D at 0x7f2e5f2ab0b8>,\n",
       " <matplotlib.lines.Line2D at 0x7f2e5f2ab208>,\n",
       " <matplotlib.lines.Line2D at 0x7f2e5f2ab358>,\n",
       " <matplotlib.lines.Line2D at 0x7f2e5f2ab4a8>,\n",
       " <matplotlib.lines.Line2D at 0x7f2e5f2ab5f8>,\n",
       " <matplotlib.lines.Line2D at 0x7f2e5f2ab748>,\n",
       " <matplotlib.lines.Line2D at 0x7f2e5f2ab898>,\n",
       " <matplotlib.lines.Line2D at 0x7f2e5f2ab9e8>,\n",
       " <matplotlib.lines.Line2D at 0x7f2e5f2abb38>,\n",
       " <matplotlib.lines.Line2D at 0x7f2e5f2abc88>,\n",
       " <matplotlib.lines.Line2D at 0x7f2e5f2abdd8>,\n",
       " <matplotlib.lines.Line2D at 0x7f2e5f2abf28>,\n",
       " <matplotlib.lines.Line2D at 0x7f2e5f2b00b8>,\n",
       " <matplotlib.lines.Line2D at 0x7f2e5f2b0208>,\n",
       " <matplotlib.lines.Line2D at 0x7f2e5f2b0358>,\n",
       " <matplotlib.lines.Line2D at 0x7f2e5f2b04a8>,\n",
       " <matplotlib.lines.Line2D at 0x7f2e5f2b05f8>,\n",
       " <matplotlib.lines.Line2D at 0x7f2e5f2b0748>,\n",
       " <matplotlib.lines.Line2D at 0x7f2e5f2b0898>,\n",
       " <matplotlib.lines.Line2D at 0x7f2e5f2b09e8>,\n",
       " <matplotlib.lines.Line2D at 0x7f2e5f2b0b38>,\n",
       " <matplotlib.lines.Line2D at 0x7f2e5f2b0c88>,\n",
       " <matplotlib.lines.Line2D at 0x7f2e5f2b0dd8>,\n",
       " <matplotlib.lines.Line2D at 0x7f2e5f2b0f28>,\n",
       " <matplotlib.lines.Line2D at 0x7f2e5f2b40b8>,\n",
       " <matplotlib.lines.Line2D at 0x7f2e5f2b4208>,\n",
       " <matplotlib.lines.Line2D at 0x7f2e5f2b4358>,\n",
       " <matplotlib.lines.Line2D at 0x7f2e5f2b44a8>,\n",
       " <matplotlib.lines.Line2D at 0x7f2e5f2b45f8>,\n",
       " <matplotlib.lines.Line2D at 0x7f2e5f2b4748>,\n",
       " <matplotlib.lines.Line2D at 0x7f2e5f2b4898>,\n",
       " <matplotlib.lines.Line2D at 0x7f2e5f2b49e8>,\n",
       " <matplotlib.lines.Line2D at 0x7f2e5f2b4b38>,\n",
       " <matplotlib.lines.Line2D at 0x7f2e5f2b4c88>,\n",
       " <matplotlib.lines.Line2D at 0x7f2e5f2b4dd8>,\n",
       " <matplotlib.lines.Line2D at 0x7f2e5f2b4f28>,\n",
       " <matplotlib.lines.Line2D at 0x7f2e5f2ba0b8>,\n",
       " <matplotlib.lines.Line2D at 0x7f2e5f2ba208>,\n",
       " <matplotlib.lines.Line2D at 0x7f2e5f2ba358>,\n",
       " <matplotlib.lines.Line2D at 0x7f2e5f2ba4a8>,\n",
       " <matplotlib.lines.Line2D at 0x7f2e5f2ba5f8>,\n",
       " <matplotlib.lines.Line2D at 0x7f2e5f2ba748>,\n",
       " <matplotlib.lines.Line2D at 0x7f2e5f2ba898>,\n",
       " <matplotlib.lines.Line2D at 0x7f2e5f2ba9e8>,\n",
       " <matplotlib.lines.Line2D at 0x7f2e5f2bab38>,\n",
       " <matplotlib.lines.Line2D at 0x7f2e5f2bac88>,\n",
       " <matplotlib.lines.Line2D at 0x7f2e5f2badd8>,\n",
       " <matplotlib.lines.Line2D at 0x7f2e5f2baf28>,\n",
       " <matplotlib.lines.Line2D at 0x7f2e5f2c00b8>,\n",
       " <matplotlib.lines.Line2D at 0x7f2e5f2c0208>,\n",
       " <matplotlib.lines.Line2D at 0x7f2e5f2c0358>,\n",
       " <matplotlib.lines.Line2D at 0x7f2e5f2c04a8>,\n",
       " <matplotlib.lines.Line2D at 0x7f2e5f2c05f8>,\n",
       " <matplotlib.lines.Line2D at 0x7f2e5f2c0748>,\n",
       " <matplotlib.lines.Line2D at 0x7f2e5f2c0898>,\n",
       " <matplotlib.lines.Line2D at 0x7f2e5f2c09e8>,\n",
       " <matplotlib.lines.Line2D at 0x7f2e5f2c0b38>,\n",
       " <matplotlib.lines.Line2D at 0x7f2e5f2c0c88>,\n",
       " <matplotlib.lines.Line2D at 0x7f2e5f2c0dd8>,\n",
       " <matplotlib.lines.Line2D at 0x7f2e5f2c0f28>,\n",
       " <matplotlib.lines.Line2D at 0x7f2e5f2c50b8>,\n",
       " <matplotlib.lines.Line2D at 0x7f2e5f2c5208>,\n",
       " <matplotlib.lines.Line2D at 0x7f2e5f2c5358>,\n",
       " <matplotlib.lines.Line2D at 0x7f2e5f2c54a8>,\n",
       " <matplotlib.lines.Line2D at 0x7f2e5f2c55f8>,\n",
       " <matplotlib.lines.Line2D at 0x7f2e5f2c5748>,\n",
       " <matplotlib.lines.Line2D at 0x7f2e5f2c5898>,\n",
       " <matplotlib.lines.Line2D at 0x7f2e5f2c59e8>,\n",
       " <matplotlib.lines.Line2D at 0x7f2e5f2c5b38>,\n",
       " <matplotlib.lines.Line2D at 0x7f2e5f2c5c88>,\n",
       " <matplotlib.lines.Line2D at 0x7f2e5f2c5dd8>,\n",
       " <matplotlib.lines.Line2D at 0x7f2e5f2c5f28>,\n",
       " <matplotlib.lines.Line2D at 0x7f2e5f2c90b8>,\n",
       " <matplotlib.lines.Line2D at 0x7f2e5f2c9208>,\n",
       " <matplotlib.lines.Line2D at 0x7f2e5f2c9358>,\n",
       " <matplotlib.lines.Line2D at 0x7f2e5f2c94a8>,\n",
       " <matplotlib.lines.Line2D at 0x7f2e5f2c95f8>,\n",
       " <matplotlib.lines.Line2D at 0x7f2e5f2c9748>,\n",
       " <matplotlib.lines.Line2D at 0x7f2e5f2c9898>,\n",
       " <matplotlib.lines.Line2D at 0x7f2e5f2c99e8>,\n",
       " <matplotlib.lines.Line2D at 0x7f2e5f2c9b38>,\n",
       " <matplotlib.lines.Line2D at 0x7f2e5f2c9c88>,\n",
       " <matplotlib.lines.Line2D at 0x7f2e5f2c9dd8>,\n",
       " <matplotlib.lines.Line2D at 0x7f2e5f2c9f28>,\n",
       " <matplotlib.lines.Line2D at 0x7f2e5f2ce0b8>,\n",
       " <matplotlib.lines.Line2D at 0x7f2e5f2ce208>,\n",
       " <matplotlib.lines.Line2D at 0x7f2e5f2ce358>,\n",
       " <matplotlib.lines.Line2D at 0x7f2e5f2ce4a8>,\n",
       " <matplotlib.lines.Line2D at 0x7f2e5f2ce5f8>,\n",
       " <matplotlib.lines.Line2D at 0x7f2e5f2ce748>,\n",
       " <matplotlib.lines.Line2D at 0x7f2e5f2ce898>,\n",
       " <matplotlib.lines.Line2D at 0x7f2e5f2ce9e8>,\n",
       " <matplotlib.lines.Line2D at 0x7f2e5f2ceb38>,\n",
       " <matplotlib.lines.Line2D at 0x7f2e5f2cec88>,\n",
       " <matplotlib.lines.Line2D at 0x7f2e5f2cedd8>,\n",
       " <matplotlib.lines.Line2D at 0x7f2e5f2cef28>,\n",
       " <matplotlib.lines.Line2D at 0x7f2e5f2d40b8>,\n",
       " <matplotlib.lines.Line2D at 0x7f2e5f2d4208>,\n",
       " <matplotlib.lines.Line2D at 0x7f2e5f2d4358>,\n",
       " <matplotlib.lines.Line2D at 0x7f2e5f2d44a8>,\n",
       " <matplotlib.lines.Line2D at 0x7f2e5f2d45f8>,\n",
       " <matplotlib.lines.Line2D at 0x7f2e5f2d4748>,\n",
       " <matplotlib.lines.Line2D at 0x7f2e5f2d4898>,\n",
       " <matplotlib.lines.Line2D at 0x7f2e5f2d49e8>,\n",
       " <matplotlib.lines.Line2D at 0x7f2e5f2d4b38>,\n",
       " <matplotlib.lines.Line2D at 0x7f2e5f2d4c88>,\n",
       " <matplotlib.lines.Line2D at 0x7f2e5f2d4dd8>,\n",
       " <matplotlib.lines.Line2D at 0x7f2e5f2d4f28>,\n",
       " <matplotlib.lines.Line2D at 0x7f2e5f2d90b8>,\n",
       " <matplotlib.lines.Line2D at 0x7f2e5f2d9208>,\n",
       " <matplotlib.lines.Line2D at 0x7f2e5f2d9358>,\n",
       " <matplotlib.lines.Line2D at 0x7f2e5f2d94a8>,\n",
       " <matplotlib.lines.Line2D at 0x7f2e5f2d95f8>,\n",
       " <matplotlib.lines.Line2D at 0x7f2e5f2d9748>,\n",
       " <matplotlib.lines.Line2D at 0x7f2e5f2d9898>,\n",
       " <matplotlib.lines.Line2D at 0x7f2e5f2d99e8>,\n",
       " <matplotlib.lines.Line2D at 0x7f2e5f2d9b38>,\n",
       " <matplotlib.lines.Line2D at 0x7f2e5f2d9c88>,\n",
       " <matplotlib.lines.Line2D at 0x7f2e5f2d9dd8>,\n",
       " <matplotlib.lines.Line2D at 0x7f2e5f2d9f28>,\n",
       " <matplotlib.lines.Line2D at 0x7f2e5f2dd0b8>,\n",
       " <matplotlib.lines.Line2D at 0x7f2e5f2dd208>,\n",
       " <matplotlib.lines.Line2D at 0x7f2e5f2dd358>,\n",
       " <matplotlib.lines.Line2D at 0x7f2e5f2dd4a8>,\n",
       " <matplotlib.lines.Line2D at 0x7f2e5f2dd5f8>,\n",
       " <matplotlib.lines.Line2D at 0x7f2e5f2dd748>,\n",
       " <matplotlib.lines.Line2D at 0x7f2e5f2dd898>,\n",
       " <matplotlib.lines.Line2D at 0x7f2e5f2dd9e8>,\n",
       " <matplotlib.lines.Line2D at 0x7f2e5f2ddb38>,\n",
       " <matplotlib.lines.Line2D at 0x7f2e5f2ddc88>,\n",
       " <matplotlib.lines.Line2D at 0x7f2e5f2dddd8>,\n",
       " <matplotlib.lines.Line2D at 0x7f2e5f2ddf28>,\n",
       " <matplotlib.lines.Line2D at 0x7f2e5f2e20b8>,\n",
       " <matplotlib.lines.Line2D at 0x7f2e5f2e2208>,\n",
       " <matplotlib.lines.Line2D at 0x7f2e5f2e2358>,\n",
       " <matplotlib.lines.Line2D at 0x7f2e5f2e24a8>,\n",
       " <matplotlib.lines.Line2D at 0x7f2e5f2e25f8>,\n",
       " <matplotlib.lines.Line2D at 0x7f2e5f2e2748>,\n",
       " <matplotlib.lines.Line2D at 0x7f2e5f2e2898>,\n",
       " <matplotlib.lines.Line2D at 0x7f2e5f2e29e8>,\n",
       " <matplotlib.lines.Line2D at 0x7f2e5f2e2b38>,\n",
       " <matplotlib.lines.Line2D at 0x7f2e5f2e2c88>,\n",
       " <matplotlib.lines.Line2D at 0x7f2e5f2e2dd8>,\n",
       " <matplotlib.lines.Line2D at 0x7f2e5f2e2f28>,\n",
       " <matplotlib.lines.Line2D at 0x7f2e5f2690b8>,\n",
       " <matplotlib.lines.Line2D at 0x7f2e5f269208>,\n",
       " <matplotlib.lines.Line2D at 0x7f2e5f269358>,\n",
       " <matplotlib.lines.Line2D at 0x7f2e5f2694a8>,\n",
       " <matplotlib.lines.Line2D at 0x7f2e5f2695f8>,\n",
       " <matplotlib.lines.Line2D at 0x7f2e5f269748>,\n",
       " <matplotlib.lines.Line2D at 0x7f2e5f269898>,\n",
       " <matplotlib.lines.Line2D at 0x7f2e5f2699e8>,\n",
       " <matplotlib.lines.Line2D at 0x7f2e5f269b38>,\n",
       " <matplotlib.lines.Line2D at 0x7f2e5f269c88>,\n",
       " <matplotlib.lines.Line2D at 0x7f2e5f269dd8>,\n",
       " <matplotlib.lines.Line2D at 0x7f2e5f269f28>,\n",
       " <matplotlib.lines.Line2D at 0x7f2e5f26e0b8>,\n",
       " <matplotlib.lines.Line2D at 0x7f2e5f26e208>,\n",
       " <matplotlib.lines.Line2D at 0x7f2e5f26e358>,\n",
       " <matplotlib.lines.Line2D at 0x7f2e5f26e4a8>,\n",
       " <matplotlib.lines.Line2D at 0x7f2e5f26e5f8>,\n",
       " <matplotlib.lines.Line2D at 0x7f2e5f26e748>,\n",
       " <matplotlib.lines.Line2D at 0x7f2e5f26e898>,\n",
       " <matplotlib.lines.Line2D at 0x7f2e5f26e9e8>,\n",
       " <matplotlib.lines.Line2D at 0x7f2e5f26eb38>,\n",
       " <matplotlib.lines.Line2D at 0x7f2e5f26ec88>,\n",
       " <matplotlib.lines.Line2D at 0x7f2e5f26edd8>,\n",
       " <matplotlib.lines.Line2D at 0x7f2e5f26ef28>,\n",
       " <matplotlib.lines.Line2D at 0x7f2e5f2730b8>,\n",
       " <matplotlib.lines.Line2D at 0x7f2e5f273208>,\n",
       " <matplotlib.lines.Line2D at 0x7f2e5f273358>,\n",
       " <matplotlib.lines.Line2D at 0x7f2e5f2734a8>,\n",
       " <matplotlib.lines.Line2D at 0x7f2e5f2735f8>,\n",
       " <matplotlib.lines.Line2D at 0x7f2e5f273748>,\n",
       " <matplotlib.lines.Line2D at 0x7f2e5f273898>,\n",
       " <matplotlib.lines.Line2D at 0x7f2e5f2739e8>,\n",
       " <matplotlib.lines.Line2D at 0x7f2e5f273b38>,\n",
       " <matplotlib.lines.Line2D at 0x7f2e5f273c88>,\n",
       " <matplotlib.lines.Line2D at 0x7f2e5f273dd8>,\n",
       " <matplotlib.lines.Line2D at 0x7f2e5f273f28>,\n",
       " <matplotlib.lines.Line2D at 0x7f2e5f2780b8>,\n",
       " <matplotlib.lines.Line2D at 0x7f2e5f278208>]"
      ]
     },
     "execution_count": 74,
     "metadata": {},
     "output_type": "execute_result"
    },
    {
     "data": {
      "image/png": "[encoded data removed]",
      "text/plain": [
       "<Figure size 432x288 with 1 Axes>"
      ]
     },
     "metadata": {
      "needs_background": "light"
     },
     "output_type": "display_data"
    }
   ],
   "source": [
    "plt.plot(aux4)"
   ]
  },
  {
   "cell_type": "code",
   "execution_count": 75,
   "metadata": {},
   "outputs": [],
   "source": [
    "DatosPorMesPromedio = DataFrameSinRepetir.copy()\n",
    "DatosPorMesPromedio['Fecha'] = pd.to_datetime(DatosPorMesPromedio['Fecha'])\n",
    "DatosPorMesPromedio['Mes'] =  DatosPorMesPromedio[['Fecha']].apply(lambda x: dt.datetime.strftime(x['Fecha'], '%m'), axis=1)\n",
    "DatosPorMesPromedio['year'] =  DatosPorMesPromedio[['Fecha']].apply(lambda x: dt.datetime.strftime(x['Fecha'], '%Y'), axis=1)\n",
    "DatosPorMesYear = DatosPorMesPromedio.groupby(['Mes','year']).agg({'Precio': np.mean}) \n",
    "DatosPorMesYear.reset_index(inplace=True)\n",
    "DatosPorMesYear.columns = ['Mes','year','PromedioPorMes']\n",
    "\n",
    "DataFramesMerge = pd.merge(DatosPorMesYear, DatosPorMesPromedio, on = ['Mes','year'], how ='inner')\n",
    "\n",
    "DatosPorDia = DataFrameSinRepetir.copy()\n",
    "DatosPorDia['Fecha'] = pd.to_datetime(DatosPorDia['Fecha'])\n",
    "DatosPorDia = DatosPorDia.groupby('Fecha').agg({'Precio': np.mean}) \n",
    "DatosPorDia.reset_index(inplace=True)\n",
    "DatosPorDia.columns = ['Fecha','PrecioPorDia']\n",
    "\n",
    "DataFramesMerge = pd.merge(DatosPorMesYear, DatosPorMesPromedio, on = ['Mes','year'], how ='inner')\n",
    "DataFramesMerge = pd.merge(DataFramesMerge, DatosPorDia, on = ['Fecha'], how ='inner')\n",
    "DataFrameHaGraficar = DataFramesMerge.groupby('Fecha').agg({'PrecioPorDia': np.mean,'PromedioPorMes': np.mean}) "
   ]
  },
  {
   "cell_type": "code",
   "execution_count": 76,
   "metadata": {},
   "outputs": [
    {
     "data": {
      "text/plain": [
       "<matplotlib.legend.Legend at 0x7f2e5ec51128>"
      ]
     },
     "execution_count": 76,
     "metadata": {},
     "output_type": "execute_result"
    },
    {
     "data": {
      "text/plain": [
       "<Figure size 1440x1440 with 0 Axes>"
      ]
     },
     "metadata": {},
     "output_type": "display_data"
    },
    {
     "data": {
      "image/png": "[encoded data removed]",
      "text/plain": [
       "<Figure size 432x288 with 1 Axes>"
      ]
     },
     "metadata": {
      "needs_background": "light"
     },
     "output_type": "display_data"
    }
   ],
   "source": [
    "plt.figure(figsize=(20, 20))\n",
    "fig, ax = plt.subplots()\n",
    "ax.plot((DataFrameHaGraficar.index.tolist()), DataFrameHaGraficar['PrecioPorDia'], label=\"Precio promedio por día\")\n",
    "ax.plot((DataFrameHaGraficar.index.tolist()), DataFrameHaGraficar['PromedioPorMes'], label=\"Precio promedio por mes\")\n",
    "plt.xlabel(\"Año\")\n",
    "plt.ylabel(\"Precio\")\n",
    "\n",
    "ax.legend()"
   ]
  },
  {
   "cell_type": "markdown",
   "metadata": {},
   "source": [
    "---"
   ]
  }
 ],
 "metadata": {
  "anaconda-cloud": {},
  "kernel_info": {
   "name": "python3"
  },
  "kernelspec": {
   "display_name": "Python 3",
   "language": "python",
   "name": "python3"
  },
  "language_info": {
   "codemirror_mode": {
    "name": "ipython",
    "version": 3
   },
   "file_extension": ".py",
   "mimetype": "text/x-python",
   "name": "python",
   "nbconvert_exporter": "python",
   "pygments_lexer": "ipython3",
   "version": "3.6.7"
  },
  "nteract": {
   "version": "0.7.1"
  }
 },
 "nbformat": 4,
 "nbformat_minor": 2
}
